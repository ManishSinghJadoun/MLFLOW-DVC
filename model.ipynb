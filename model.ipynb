{
  "nbformat": 4,
  "nbformat_minor": 0,
  "metadata": {
    "colab": {
      "provenance": [],
      "gpuType": "T4",
      "authorship_tag": "ABX9TyMH2Ma2UcO92Ai3ZQ0fdbLb",
      "include_colab_link": true
    },
    "kernelspec": {
      "name": "python3",
      "display_name": "Python 3"
    },
    "language_info": {
      "name": "python"
    },
    "accelerator": "GPU"
  },
  "cells": [
    {
      "cell_type": "markdown",
      "metadata": {
        "id": "view-in-github",
        "colab_type": "text"
      },
      "source": [
        "<a href=\"https://colab.research.google.com/github/ManishSinghJadoun/MLFLOW-DVC/blob/main/model.ipynb\" target=\"_parent\"><img src=\"https://colab.research.google.com/assets/colab-badge.svg\" alt=\"Open In Colab\"/></a>"
      ]
    },
    {
      "cell_type": "code",
      "execution_count": 1,
      "metadata": {
        "colab": {
          "base_uri": "https://localhost:8080/",
          "height": 35
        },
        "id": "flddOrbEZvZR",
        "outputId": "6704e184-ccca-447e-ad88-8bf7c9882015"
      },
      "outputs": [
        {
          "output_type": "execute_result",
          "data": {
            "text/plain": [
              "'/content'"
            ],
            "application/vnd.google.colaboratory.intrinsic+json": {
              "type": "string"
            }
          },
          "metadata": {},
          "execution_count": 1
        }
      ],
      "source": [
        "%pwd"
      ]
    },
    {
      "cell_type": "code",
      "source": [
        "from google.colab import drive\n",
        "drive.mount('/content/drive/')"
      ],
      "metadata": {
        "id": "Dc4f6wQTmNzY"
      },
      "execution_count": null,
      "outputs": []
    },
    {
      "cell_type": "code",
      "source": [
        "!apt-get install unrar"
      ],
      "metadata": {
        "id": "5nXnQXbqmNwC"
      },
      "execution_count": null,
      "outputs": []
    },
    {
      "cell_type": "code",
      "source": [
        "!unrar x /content/drive/MyDrive/dataset.rar /content/"
      ],
      "metadata": {
        "id": "ZDaNDpMSnveo"
      },
      "execution_count": null,
      "outputs": []
    },
    {
      "cell_type": "code",
      "source": [
        "import os\n",
        "os.getcwd()"
      ],
      "metadata": {
        "id": "IZgYOhnCnvbG"
      },
      "execution_count": null,
      "outputs": []
    },
    {
      "cell_type": "code",
      "source": [],
      "metadata": {
        "id": "Ik0JDhU8mNtd"
      },
      "execution_count": null,
      "outputs": []
    },
    {
      "cell_type": "code",
      "source": [
        "import os\n",
        "import torch\n",
        "from torchvision import datasets, transforms\n",
        "from torch.utils.data import DataLoader\n",
        "from torchvision.io import read_image\n",
        "import yaml\n",
        "from PIL import Image\n",
        "\n",
        "# Path to the dataset folder\n",
        "dataset_dir = \"D:\\\\dataclass\"\n",
        "\n",
        "# Define transformations for the images (resize, normalize, etc.)\n",
        "transform = transforms.Compose([\n",
        "    transforms.Resize((1500, 1500)),  # Resize images to 224x224 (or any size suitable for your model)\n",
        "    transforms.ToTensor(),  # Convert images to tensor\n",
        "    transforms.Normalize(mean=[0.485, 0.456, 0.406], std=[0.229, 0.224, 0.225])  # Normalize for pre-trained models\n",
        "])\n",
        "\n",
        "# Custom dataset to handle YAML files and images\n",
        "class CustomImageDataset(torch.utils.data.Dataset):\n",
        "    def __init__(self, root_dir, transform=None):\n",
        "        self.root_dir = root_dir\n",
        "        self.transform = transform\n",
        "        self.classes = os.listdir(root_dir)  # List class subfolders\n",
        "        self.image_paths = []\n",
        "        self.labels = []\n",
        "\n",
        "        # Load images and metadata (e.g., YAML) from each class folder\n",
        "        for label, class_name in enumerate(self.classes):\n",
        "            class_dir = os.path.join(root_dir, class_name)\n",
        "            if os.path.isdir(class_dir):\n",
        "                # Get all image files in the class folder\n",
        "                for file_name in os.listdir(class_dir):\n",
        "                    if file_name.endswith(('.jpg', '.png', '.jpeg')):  # Check image extensions\n",
        "                        image_path = os.path.join(class_dir, file_name)\n",
        "                        self.image_paths.append(image_path)\n",
        "                        self.labels.append(label)\n",
        "\n",
        "                        # Optional: Load YAML metadata if needed\n",
        "                        yaml_file = os.path.join(class_dir, file_name.replace('.jpg', '.yaml'))\n",
        "                        if os.path.exists(yaml_file):\n",
        "                            with open(yaml_file, 'r') as file:\n",
        "                                metadata = yaml.safe_load(file)\n",
        "                            # Process metadata as needed\n",
        "\n",
        "    def __len__(self):\n",
        "        return len(self.image_paths)\n",
        "\n",
        "    def __getitem__(self, idx):\n",
        "        img_path = self.image_paths[idx]\n",
        "        image = Image.open(img_path)  # Open image\n",
        "        label = self.labels[idx]\n",
        "\n",
        "        if self.transform:\n",
        "            image = self.transform(image)  # Apply transformations\n",
        "\n",
        "        return image, label\n",
        "\n",
        "# Create an instance of the dataset\n",
        "dataset = CustomImageDataset(root_dir=dataset_dir, transform=transform)\n",
        "\n"
      ],
      "metadata": {
        "id": "onSUEwXGmNqp"
      },
      "execution_count": null,
      "outputs": []
    },
    {
      "cell_type": "code",
      "source": [],
      "metadata": {
        "id": "i8eLrO3HmNn6"
      },
      "execution_count": null,
      "outputs": []
    },
    {
      "cell_type": "code",
      "source": [],
      "metadata": {
        "id": "Ts_aqj0zmNlX"
      },
      "execution_count": null,
      "outputs": []
    },
    {
      "cell_type": "code",
      "source": [],
      "metadata": {
        "id": "GyeSKwBcmNio"
      },
      "execution_count": null,
      "outputs": []
    },
    {
      "cell_type": "code",
      "source": [],
      "metadata": {
        "id": "vw_-q0VGmNgA"
      },
      "execution_count": null,
      "outputs": []
    },
    {
      "cell_type": "code",
      "source": [],
      "metadata": {
        "id": "LAFlNUZYmNda"
      },
      "execution_count": null,
      "outputs": []
    },
    {
      "cell_type": "code",
      "source": [],
      "metadata": {
        "id": "vySTScCdmNaw"
      },
      "execution_count": null,
      "outputs": []
    }
  ]
}